{
 "cells": [
  {
   "cell_type": "code",
   "execution_count": 1,
   "id": "083aea91",
   "metadata": {},
   "outputs": [],
   "source": [
    "import pandas as pd\n",
    "from sklearn.feature_extraction.text import TfidfVectorizer\n",
    "from sklearn.metrics.pairwise import cosine_similarity\n",
    "from sklearn.feature_extraction.text import CountVectorizer"
   ]
  },
  {
   "cell_type": "code",
   "execution_count": 2,
   "id": "c114e53c",
   "metadata": {},
   "outputs": [],
   "source": [
    "def content_based_recommendation(title,cs):\n",
    "    try:\n",
    "        index = (df[df[\"title\"]==title].index.values[0])\n",
    "    except IndexError:\n",
    "        return\n",
    "    \n",
    "    similarity = cs[index]\n",
    "    similarity_list = list(enumerate(similarity))\n",
    "    similarity_list = sorted(similarity_list, key = lambda x: x[1]) \n",
    "    similarity_list = similarity_list[::-1]\n",
    "    top_7 = [i[0] for i in similarity_list[1:8]]\n",
    "\n",
    "    return (df['title'].iloc[top_7])"
   ]
  },
  {
   "cell_type": "code",
   "execution_count": 3,
   "id": "ef2851bd",
   "metadata": {},
   "outputs": [],
   "source": [
    "def random_recommendation(title):\n",
    "    genre = df.loc[df['title'] == title, 'listed_in'].iloc[0]\n",
    "    data = df[df['listed_in'] == genre]\n",
    "    data.drop(data.index[data['title'] == title], inplace = True)\n",
    "    if (data.shape[0]) > 7:\n",
    "        data = (data.sample(7))\n",
    "    return(data[\"title\"])"
   ]
  },
  {
   "cell_type": "code",
   "execution_count": 4,
   "id": "818452b7",
   "metadata": {},
   "outputs": [],
   "source": [
    "df = pd.read_csv('netflix_titles.csv')"
   ]
  },
  {
   "cell_type": "code",
   "execution_count": 5,
   "id": "4381c8d0",
   "metadata": {},
   "outputs": [],
   "source": [
    "df = df[df['director'].notnull()]\n",
    "df = df[df['cast'].notnull()]\n",
    "df['rating'].fillna('PG-13',inplace = True)\n",
    "df['duration'].fillna('90 min',inplace = True)\n",
    "m = df['country'].mode()[0]\n",
    "df['country'].fillna(m,inplace = True)"
   ]
  },
  {
   "cell_type": "code",
   "execution_count": 20,
   "id": "b17f43e8",
   "metadata": {},
   "outputs": [
    {
     "data": {
      "text/html": [
       "<div>\n",
       "<style scoped>\n",
       "    .dataframe tbody tr th:only-of-type {\n",
       "        vertical-align: middle;\n",
       "    }\n",
       "\n",
       "    .dataframe tbody tr th {\n",
       "        vertical-align: top;\n",
       "    }\n",
       "\n",
       "    .dataframe thead th {\n",
       "        text-align: right;\n",
       "    }\n",
       "</style>\n",
       "<table border=\"1\" class=\"dataframe\">\n",
       "  <thead>\n",
       "    <tr style=\"text-align: right;\">\n",
       "      <th></th>\n",
       "      <th>show_id</th>\n",
       "      <th>type</th>\n",
       "      <th>title</th>\n",
       "      <th>director</th>\n",
       "      <th>cast</th>\n",
       "      <th>country</th>\n",
       "      <th>date_added</th>\n",
       "      <th>release_year</th>\n",
       "      <th>rating</th>\n",
       "      <th>duration</th>\n",
       "      <th>listed_in</th>\n",
       "      <th>description</th>\n",
       "      <th>data_soup</th>\n",
       "    </tr>\n",
       "  </thead>\n",
       "  <tbody>\n",
       "    <tr>\n",
       "      <th>2</th>\n",
       "      <td>s3</td>\n",
       "      <td>TV Show</td>\n",
       "      <td>Ganglands</td>\n",
       "      <td>julienleclercq</td>\n",
       "      <td>[samibouajila, tracygotoas, samueljouy]</td>\n",
       "      <td>United States</td>\n",
       "      <td>September 24, 2021</td>\n",
       "      <td>2021</td>\n",
       "      <td>TV-MA</td>\n",
       "      <td>1 Season</td>\n",
       "      <td>[crimetvshows, internationaltvshows, tvaction&amp;...</td>\n",
       "      <td>To protect his family from a powerful drug lor...</td>\n",
       "      <td>samibouajila tracygotoas samueljouy julienlec...</td>\n",
       "    </tr>\n",
       "    <tr>\n",
       "      <th>5</th>\n",
       "      <td>s6</td>\n",
       "      <td>TV Show</td>\n",
       "      <td>Midnight Mass</td>\n",
       "      <td>mikeflanagan</td>\n",
       "      <td>[katesiegel, zachgilford, hamishlinklater]</td>\n",
       "      <td>United States</td>\n",
       "      <td>September 24, 2021</td>\n",
       "      <td>2021</td>\n",
       "      <td>TV-MA</td>\n",
       "      <td>1 Season</td>\n",
       "      <td>[tvdramas, tvhorror, tvmysteries]</td>\n",
       "      <td>The arrival of a charismatic young priest brin...</td>\n",
       "      <td>katesiegel zachgilford hamishlinklater mikefl...</td>\n",
       "    </tr>\n",
       "    <tr>\n",
       "      <th>6</th>\n",
       "      <td>s7</td>\n",
       "      <td>Movie</td>\n",
       "      <td>My Little Pony: A New Generation</td>\n",
       "      <td>robertcullen</td>\n",
       "      <td>[vanessahudgens, kimikoglenn, jamesmarsden]</td>\n",
       "      <td>United States</td>\n",
       "      <td>September 24, 2021</td>\n",
       "      <td>2021</td>\n",
       "      <td>PG</td>\n",
       "      <td>91 min</td>\n",
       "      <td>[children&amp;familymovies]</td>\n",
       "      <td>Equestria's divided. But a bright-eyed hero be...</td>\n",
       "      <td>vanessahudgens kimikoglenn jamesmarsden rober...</td>\n",
       "    </tr>\n",
       "    <tr>\n",
       "      <th>7</th>\n",
       "      <td>s8</td>\n",
       "      <td>Movie</td>\n",
       "      <td>Sankofa</td>\n",
       "      <td>hailegerima</td>\n",
       "      <td>[kofighanaba, oyafunmikeogunlano, alexandraduah]</td>\n",
       "      <td>United States, Ghana, Burkina Faso, United Kin...</td>\n",
       "      <td>September 24, 2021</td>\n",
       "      <td>1993</td>\n",
       "      <td>TV-MA</td>\n",
       "      <td>125 min</td>\n",
       "      <td>[dramas, independentmovies, internationalmovies]</td>\n",
       "      <td>On a photo shoot in Ghana, an American model s...</td>\n",
       "      <td>kofighanaba oyafunmikeogunlano alexandraduah ...</td>\n",
       "    </tr>\n",
       "    <tr>\n",
       "      <th>8</th>\n",
       "      <td>s9</td>\n",
       "      <td>TV Show</td>\n",
       "      <td>The Great British Baking Show</td>\n",
       "      <td>andydevonshire</td>\n",
       "      <td>[melgiedroyc, sueperkins, maryberry]</td>\n",
       "      <td>United Kingdom</td>\n",
       "      <td>September 24, 2021</td>\n",
       "      <td>2021</td>\n",
       "      <td>TV-14</td>\n",
       "      <td>9 Seasons</td>\n",
       "      <td>[britishtvshows, realitytv]</td>\n",
       "      <td>A talented batch of amateur bakers face off in...</td>\n",
       "      <td>melgiedroyc sueperkins maryberry andydevonshi...</td>\n",
       "    </tr>\n",
       "  </tbody>\n",
       "</table>\n",
       "</div>"
      ],
      "text/plain": [
       "  show_id     type                             title        director  \\\n",
       "2      s3  TV Show                         Ganglands  julienleclercq   \n",
       "5      s6  TV Show                     Midnight Mass    mikeflanagan   \n",
       "6      s7    Movie  My Little Pony: A New Generation    robertcullen   \n",
       "7      s8    Movie                           Sankofa     hailegerima   \n",
       "8      s9  TV Show     The Great British Baking Show  andydevonshire   \n",
       "\n",
       "                                               cast  \\\n",
       "2           [samibouajila, tracygotoas, samueljouy]   \n",
       "5        [katesiegel, zachgilford, hamishlinklater]   \n",
       "6       [vanessahudgens, kimikoglenn, jamesmarsden]   \n",
       "7  [kofighanaba, oyafunmikeogunlano, alexandraduah]   \n",
       "8              [melgiedroyc, sueperkins, maryberry]   \n",
       "\n",
       "                                             country          date_added  \\\n",
       "2                                      United States  September 24, 2021   \n",
       "5                                      United States  September 24, 2021   \n",
       "6                                      United States  September 24, 2021   \n",
       "7  United States, Ghana, Burkina Faso, United Kin...  September 24, 2021   \n",
       "8                                     United Kingdom  September 24, 2021   \n",
       "\n",
       "   release_year rating   duration  \\\n",
       "2          2021  TV-MA   1 Season   \n",
       "5          2021  TV-MA   1 Season   \n",
       "6          2021     PG     91 min   \n",
       "7          1993  TV-MA    125 min   \n",
       "8          2021  TV-14  9 Seasons   \n",
       "\n",
       "                                           listed_in  \\\n",
       "2  [crimetvshows, internationaltvshows, tvaction&...   \n",
       "5                  [tvdramas, tvhorror, tvmysteries]   \n",
       "6                            [children&familymovies]   \n",
       "7   [dramas, independentmovies, internationalmovies]   \n",
       "8                        [britishtvshows, realitytv]   \n",
       "\n",
       "                                         description  \\\n",
       "2  To protect his family from a powerful drug lor...   \n",
       "5  The arrival of a charismatic young priest brin...   \n",
       "6  Equestria's divided. But a bright-eyed hero be...   \n",
       "7  On a photo shoot in Ghana, an American model s...   \n",
       "8  A talented batch of amateur bakers face off in...   \n",
       "\n",
       "                                           data_soup  \n",
       "2   samibouajila tracygotoas samueljouy julienlec...  \n",
       "5   katesiegel zachgilford hamishlinklater mikefl...  \n",
       "6   vanessahudgens kimikoglenn jamesmarsden rober...  \n",
       "7   kofighanaba oyafunmikeogunlano alexandraduah ...  \n",
       "8   melgiedroyc sueperkins maryberry andydevonshi...  "
      ]
     },
     "execution_count": 20,
     "metadata": {},
     "output_type": "execute_result"
    }
   ],
   "source": [
    "df.head()"
   ]
  },
  {
   "cell_type": "code",
   "execution_count": 7,
   "id": "1e27a016",
   "metadata": {},
   "outputs": [],
   "source": [
    "# First model is based on the description of a particular movie using cosine similarity and bag of words.\n",
    "# Word vector will be calculated using TF-IDF\n",
    "\n",
    "tfidf = TfidfVectorizer(stop_words='english')\n",
    "df[\"description\"].fillna('')\n",
    "word_matrix = tfidf.fit_transform(df['description'])"
   ]
  },
  {
   "cell_type": "code",
   "execution_count": 8,
   "id": "5a66c396",
   "metadata": {},
   "outputs": [
    {
     "name": "stdout",
     "output_type": "stream",
     "text": [
      "(5700, 14767)\n"
     ]
    }
   ],
   "source": [
    "print(word_matrix.shape)"
   ]
  },
  {
   "cell_type": "code",
   "execution_count": 9,
   "id": "7f161c0d",
   "metadata": {},
   "outputs": [],
   "source": [
    "cs = cosine_similarity(word_matrix, word_matrix)"
   ]
  },
  {
   "cell_type": "code",
   "execution_count": 10,
   "id": "e3fa758c",
   "metadata": {},
   "outputs": [],
   "source": [
    "top_7_recommendations = content_based_recommendation(\"Ganglands\",cs)"
   ]
  },
  {
   "cell_type": "code",
   "execution_count": 11,
   "id": "7f1f274e",
   "metadata": {},
   "outputs": [
    {
     "name": "stdout",
     "output_type": "stream",
     "text": [
      "Top recommendations based on the plot:\n",
      "4364    My Little Pony Friendship Is Magic: Best Gift ...\n",
      "4588                                      My Friend Pinto\n",
      "7110                      Jack and the Cuckoo-Clock Heart\n",
      "5485                                            Ram Jaane\n",
      "555                                           Snowpiercer\n",
      "6641                                          Dragonheart\n",
      "2314                                             Stardust\n",
      "Name: title, dtype: object\n"
     ]
    }
   ],
   "source": [
    "print(\"Top recommendations based on the plot:\")\n",
    "print(top_7_recommendations)"
   ]
  },
  {
   "cell_type": "code",
   "execution_count": 12,
   "id": "0d423bf7",
   "metadata": {},
   "outputs": [
    {
     "name": "stderr",
     "output_type": "stream",
     "text": [
      "I:\\Python\\lib\\site-packages\\pandas\\core\\frame.py:4901: SettingWithCopyWarning: \n",
      "A value is trying to be set on a copy of a slice from a DataFrame\n",
      "\n",
      "See the caveats in the documentation: https://pandas.pydata.org/pandas-docs/stable/user_guide/indexing.html#returning-a-view-versus-a-copy\n",
      "  return super().drop(\n"
     ]
    }
   ],
   "source": [
    "top_7_random_recommendations = random_recommendation(\"Ganglands\")"
   ]
  },
  {
   "cell_type": "code",
   "execution_count": 13,
   "id": "3384ccb6",
   "metadata": {},
   "outputs": [
    {
     "name": "stdout",
     "output_type": "stream",
     "text": [
      "Top recommendations based on the genre:\n",
      "11      Bangkok Breaking\n",
      "1223              Dealer\n",
      "3356         Nowhere Man\n",
      "Name: title, dtype: object\n"
     ]
    }
   ],
   "source": [
    "print(\"Top recommendations based on the genre:\")\n",
    "print(top_7_random_recommendations)"
   ]
  },
  {
   "cell_type": "code",
   "execution_count": 14,
   "id": "6de8117f",
   "metadata": {},
   "outputs": [],
   "source": [
    "def processData(x):\n",
    "    if len(x.split(\",\")) > 3:\n",
    "        return x.split(\",\")[0:3]\n",
    "    else:\n",
    "        return x.split(\",\")\n"
   ]
  },
  {
   "cell_type": "code",
   "execution_count": 15,
   "id": "1a14d386",
   "metadata": {},
   "outputs": [],
   "source": [
    "def processing(x):\n",
    "    if type(x) == list:\n",
    "            return [i.replace(\" \", \"\").lower() for i in x]\n",
    "    else:\n",
    "            return (x.replace(\" \", \"\").lower())"
   ]
  },
  {
   "cell_type": "code",
   "execution_count": 16,
   "id": "3e085af4",
   "metadata": {},
   "outputs": [],
   "source": [
    "def create_soup(data):\n",
    "    return  ' ' + ' '.join(data['cast']) + ' ' + data['director'] + ' ' + ' '.join(data['listed_in'])"
   ]
  },
  {
   "cell_type": "code",
   "execution_count": 21,
   "id": "a9c2abca",
   "metadata": {},
   "outputs": [],
   "source": [
    "def recommendation_director(title):\n",
    "    data = df\n",
    "    data[\"cast\"] = data[\"cast\"].apply(processData)\n",
    "    data[\"listed_in\"] = data[\"listed_in\"].apply(processData)\n",
    "    data[\"director\"] = data[\"director\"].apply(lambda x: x.split(\",\")[0])\n",
    "    \n",
    "    categories = [\"director\",\"listed_in\",\"cast\"]\n",
    "\n",
    "    for c in categories:\n",
    "        data[c] = data[c].apply(processing)\n",
    "\n",
    "    data[\"data_soup\"] = data.apply(create_soup, axis=1)\n",
    "    \n",
    "    count = CountVectorizer(stop_words='english')\n",
    "    cm = count.fit_transform(data['data_soup'])\n",
    "\n",
    "    #Use cosine similarity \n",
    "    cs = cosine_similarity(cm, cm)\n",
    "    res = content_based_recommendation(title,cs)\n",
    "    return res"
   ]
  },
  {
   "cell_type": "code",
   "execution_count": 18,
   "id": "9ff06caf",
   "metadata": {},
   "outputs": [],
   "source": [
    "top_7_director = recommendation_director(\"Ganglands\")"
   ]
  },
  {
   "cell_type": "code",
   "execution_count": 22,
   "id": "abb29ae3",
   "metadata": {},
   "outputs": [
    {
     "name": "stdout",
     "output_type": "stream",
     "text": [
      "Top Movies based on combination of Cast, director and Genre:\n",
      "6433             Cats & Dogs: The Revenge of Kitty Galore\n",
      "3016                                                  Hop\n",
      "3248                          The Knight Before Christmas\n",
      "1681                  The Princess Switch: Switched Again\n",
      "2858    Calico Critters: Everyone's Big Dream Flying i...\n",
      "2188                                           Sugar High\n",
      "1304           Animals on the Loose: A You vs. Wild Movie\n",
      "Name: title, dtype: object\n"
     ]
    }
   ],
   "source": [
    "print(\"Top Movies based on combination of Cast, director and Genre:\")\n",
    "print(top_7_director)"
   ]
  },
  {
   "cell_type": "code",
   "execution_count": null,
   "id": "f619a258",
   "metadata": {},
   "outputs": [],
   "source": []
  }
 ],
 "metadata": {
  "kernelspec": {
   "display_name": "Python 3 (ipykernel)",
   "language": "python",
   "name": "python3"
  },
  "language_info": {
   "codemirror_mode": {
    "name": "ipython",
    "version": 3
   },
   "file_extension": ".py",
   "mimetype": "text/x-python",
   "name": "python",
   "nbconvert_exporter": "python",
   "pygments_lexer": "ipython3",
   "version": "3.9.6"
  }
 },
 "nbformat": 4,
 "nbformat_minor": 5
}
